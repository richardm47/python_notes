{
 "cells": [
  {
   "cell_type": "markdown",
   "metadata": {},
   "source": [
    "## Function as decorator"
   ]
  },
  {
   "cell_type": "code",
   "execution_count": null,
   "metadata": {},
   "outputs": [],
   "source": [
    "#Function as decorator#\n",
    "\n",
    "a = \"¡t@l¥\"\n",
    "b = \"fr@nŒ\"\n",
    "\n",
    "def escape_unicode(f):\n",
    "    def wrap(*args, **kwargs):\n",
    "        x = f(*args, **kwargs)\n",
    "        return ascii(x)\n",
    "    return wrap\n",
    "\n",
    "\n",
    "def northern_city(name):\n",
    "    return name\n",
    "\n",
    "@escape_unicode\n",
    "def northern_city_decorator(name):\n",
    "    return name\n",
    "\n",
    "\n",
    "print(f\"Long method: {escape_unicode(northern_city)(b)}\")\n",
    "print(f\"Decorator method: {northern_city_decorator(a)}\")"
   ]
  },
  {
   "cell_type": "markdown",
   "metadata": {},
   "source": [
    "## Class as decorator"
   ]
  },
  {
   "cell_type": "code",
   "execution_count": null,
   "metadata": {},
   "outputs": [],
   "source": [
    "'''\n",
    "Class to be made decorator of.\n",
    "Note: Class should have __call__ attribute\n",
    "'''\n",
    "class CallCount:\n",
    "    def __init__(self, f):\n",
    "        self.f  = f\n",
    "        self.count = 0\n",
    "        \n",
    "    def __call__(self, *args, **kwargs):\n",
    "        self.count += 1\n",
    "        return self.f(*args, **kwargs)"
   ]
  },
  {
   "cell_type": "code",
   "execution_count": null,
   "metadata": {},
   "outputs": [],
   "source": [
    "##Long method\n",
    "def hello(name):\n",
    "    print(\"Ola, {}!\".format(name))\n",
    "\n",
    "o = CallCount(hello)\n",
    "o(\"Richard\")\n",
    "o(\"Clark\")\n",
    "o(\"Reese\")\n",
    "o(\"Jack\")\n",
    "o.count"
   ]
  },
  {
   "cell_type": "code",
   "execution_count": null,
   "metadata": {},
   "outputs": [],
   "source": [
    "##Decorator method\n",
    "@CallCount\n",
    "def hello_decorator(name):\n",
    "    print(\"Hi, {}!\".format(name))\n",
    "    \n",
    "\n",
    "hello_decorator(\"Bruce\")\n",
    "hello_decorator(\"Tony\")\n",
    "hello_decorator(\"Walter\")\n",
    "hello_decorator.count"
   ]
  },
  {
   "cell_type": "markdown",
   "metadata": {},
   "source": [
    "## Instance as decorator"
   ]
  },
  {
   "cell_type": "code",
   "execution_count": 1,
   "metadata": {},
   "outputs": [],
   "source": [
    "class Trace:\n",
    "    def __init__(self):\n",
    "        self.enabled = True\n",
    "    \n",
    "    def __call__(self, f):\n",
    "        def wrap(*args, **kwargs):\n",
    "            if self.enabled:\n",
    "                print(f\"Calling {f}\")\n",
    "            return f(*args, **kwargs)\n",
    "        return wrap"
   ]
  },
  {
   "cell_type": "code",
   "execution_count": 7,
   "metadata": {},
   "outputs": [
    {
     "name": "stdout",
     "output_type": "stream",
     "text": [
      "Calling <function rotate_list at 0x000001E3A26980D0>\n",
      "[2, 3, 1]\n",
      "Calling <function rotate_list at 0x000001E3A26980D0>\n",
      "[3, 1, 2]\n",
      "Calling <function rotate_list at 0x000001E3A26980D0>\n",
      "[1, 2, 3]\n",
      "[2, 3, 1]\n",
      "[3, 1, 2]\n"
     ]
    }
   ],
   "source": [
    "##Long method\n",
    "tracer = Trace()\n",
    "\n",
    "def rotate_list(l):\n",
    "    return l[1:] + [l[0]]\n",
    "\n",
    "l = [1,2,3]\n",
    "l = tracer(rotate_list)(l)\n",
    "print(l)\n",
    "l = tracer(rotate_list)(l)\n",
    "print(l)\n",
    "l = tracer(rotate_list)(l)\n",
    "print(l)\n",
    "tracer.enabled = False\n",
    "l = tracer(rotate_list)(l)\n",
    "print(l)\n",
    "l = tracer(rotate_list)(l)\n",
    "print(l)\n"
   ]
  },
  {
   "cell_type": "code",
   "execution_count": null,
   "metadata": {},
   "outputs": [],
   "source": [
    "##Decorator method\n",
    "tracer = Trace()\n",
    "\n",
    "@tracer\n",
    "def rotate_list_decorator(l):\n",
    "    return l[1:] + [l[0]]\n",
    "\n",
    "l = [1,2,3]\n",
    "\n",
    "l = rotate_list_decorator(l)\n",
    "print(l)\n",
    "l = rotate_list_decorator(l)\n",
    "print(l)\n",
    "tracer.enabled = False\n",
    "l = rotate_list_decorator(l)\n",
    "print(l)\n",
    "l = rotate_list_decorator(l)\n",
    "print(l)"
   ]
  },
  {
   "cell_type": "code",
   "execution_count": null,
   "metadata": {},
   "outputs": [],
   "source": [
    "\n"
   ]
  },
  {
   "cell_type": "code",
   "execution_count": null,
   "metadata": {},
   "outputs": [],
   "source": [
    "l = rotate_list_decorator (l)\n",
    "l"
   ]
  },
  {
   "cell_type": "code",
   "execution_count": null,
   "metadata": {},
   "outputs": [],
   "source": []
  }
 ],
 "metadata": {
  "kernelspec": {
   "display_name": "Python 3",
   "language": "python",
   "name": "python3"
  },
  "language_info": {
   "codemirror_mode": {
    "name": "ipython",
    "version": 3
   },
   "file_extension": ".py",
   "mimetype": "text/x-python",
   "name": "python",
   "nbconvert_exporter": "python",
   "pygments_lexer": "ipython3",
   "version": "3.6.8"
  }
 },
 "nbformat": 4,
 "nbformat_minor": 4
}
